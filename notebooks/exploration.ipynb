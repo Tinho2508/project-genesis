{
 "cells": [
  {
   "cell_type": "markdown",
   "id": "eb33db56",
   "metadata": {},
   "source": [
    "# !pip install transformers torch datasets numpy\n",
    "\n"
   ]
  },
  {
   "cell_type": "markdown",
   "id": "7b219042-2607-46ce-9b2d-c83a00651786",
   "metadata": {},
   "source": [
    "# !pip install transformers torch datasets numpy\n",
    "\n"
   ]
  }
 ],
 "metadata": {
  "kernelspec": {
   "display_name": "Python 3 (ipykernel)",
   "language": "python",
   "name": "python3"
  },
  "language_info": {
   "codemirror_mode": {
    "name": "ipython",
    "version": 3
   },
   "file_extension": ".py",
   "mimetype": "text/x-python",
   "name": "python",
   "nbconvert_exporter": "python",
   "pygments_lexer": "ipython3",
   "version": "3.13.7"
  }
 },
 "nbformat": 4,
 "nbformat_minor": 5
}
